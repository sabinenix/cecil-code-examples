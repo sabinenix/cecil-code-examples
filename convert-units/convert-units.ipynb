{
 "cells": [
  {
   "cell_type": "markdown",
   "metadata": {},
   "source": [
    "# Convert Units\n",
    "Pull aboveground biomass data from Chloris and convert to aboveground carbon density by multiplying the data by 0.476."
   ]
  },
  {
   "cell_type": "markdown",
   "metadata": {},
   "source": [
    "### Import required packages."
   ]
  },
  {
   "cell_type": "code",
   "execution_count": 1,
   "metadata": {},
   "outputs": [],
   "source": [
    "import snowflake.connector\n",
    "import yaml\n",
    "import pandas as pd\n",
    "import matplotlib.pyplot as plt"
   ]
  },
  {
   "cell_type": "markdown",
   "metadata": {},
   "source": [
    "### Connect to snowflake and pull variables of interest.\n",
    "Note that the access credentials to the snowflake database are not included below. The code should be modified where shown to include the access credentials provided to you. "
   ]
  },
  {
   "cell_type": "code",
   "execution_count": 2,
   "metadata": {},
   "outputs": [],
   "source": [
    "# Pull database information from the config yaml file. \n",
    "with open('config.yml', 'r') as file:\n",
    "    config = yaml.safe_load(file)\n",
    "\n",
    "# Connect to the snowflake database using info from config file.\n",
    "conn = snowflake.connector.connect(\n",
    "    account = config['database-info']['account'], # Replace 'config['database-info']['account']' with the database account name. \n",
    "    user = config['database-info']['user'], # Replace 'config['database-info']['user']' with the database username.\n",
    "    password = config['database-info']['password'], # Replace 'config['database-info']['password']' with the database password.\n",
    "    warehouse = config['database-info']['warehouse'], # Replace 'config['database-info']['warehouse']' with the database warehouse name.\n",
    "    database = config['database-info']['database'], # Replace 'config['database-info']['database']' with the database name.\n",
    ")\n",
    "\n",
    "# Define the SQL query to get chloris stock data for 2020.\n",
    "# Name the raw chloris stock 'chloris_agb' (aboveground biomass).\n",
    "# Convert raw chloris biomass stock to carbon stock and name the column 'chloris_acd' (aboveground carbon density).\n",
    "sql_query = \"\"\"\n",
    "    SELECT\n",
    "        year,\n",
    "        lon,\n",
    "        lat,\n",
    "        stock AS chloris_agb,\n",
    "        stock * 0.476 AS chloris_acd\n",
    "    FROM\n",
    "        chloris.forest_cover\n",
    "    WHERE\n",
    "        year = 2020\n",
    "    \"\"\"\n",
    "\n",
    "# Execute the query and get the rows and columns of data.\n",
    "cursor = conn.cursor()\n",
    "cursor.execute(sql_query)\n",
    "data_rows = cursor.fetchall()\n",
    "data_columns = [desc[0] for desc in cursor.description]\n",
    "cursor.close()\n",
    "conn.close()"
   ]
  },
  {
   "cell_type": "markdown",
   "metadata": {},
   "source": [
    "### Convert to dataframe and plot."
   ]
  },
  {
   "cell_type": "code",
   "execution_count": 3,
   "metadata": {},
   "outputs": [
    {
     "data": {
      "text/html": [
       "<div>\n",
       "<style scoped>\n",
       "    .dataframe tbody tr th:only-of-type {\n",
       "        vertical-align: middle;\n",
       "    }\n",
       "\n",
       "    .dataframe tbody tr th {\n",
       "        vertical-align: top;\n",
       "    }\n",
       "\n",
       "    .dataframe thead th {\n",
       "        text-align: right;\n",
       "    }\n",
       "</style>\n",
       "<table border=\"1\" class=\"dataframe\">\n",
       "  <thead>\n",
       "    <tr style=\"text-align: right;\">\n",
       "      <th></th>\n",
       "      <th>YEAR</th>\n",
       "      <th>LON</th>\n",
       "      <th>LAT</th>\n",
       "      <th>CHLORIS_AGB</th>\n",
       "      <th>CHLORIS_ACD</th>\n",
       "    </tr>\n",
       "  </thead>\n",
       "  <tbody>\n",
       "    <tr>\n",
       "      <th>0</th>\n",
       "      <td>2020</td>\n",
       "      <td>-2.79712500</td>\n",
       "      <td>57.10637500</td>\n",
       "      <td>60.00000000</td>\n",
       "      <td>28.56000000000</td>\n",
       "    </tr>\n",
       "    <tr>\n",
       "      <th>1</th>\n",
       "      <td>2020</td>\n",
       "      <td>-2.78087500</td>\n",
       "      <td>57.10637500</td>\n",
       "      <td>116.00000000</td>\n",
       "      <td>55.21600000000</td>\n",
       "    </tr>\n",
       "    <tr>\n",
       "      <th>2</th>\n",
       "      <td>2020</td>\n",
       "      <td>-2.80112500</td>\n",
       "      <td>57.10637500</td>\n",
       "      <td>145.00000000</td>\n",
       "      <td>69.02000000000</td>\n",
       "    </tr>\n",
       "    <tr>\n",
       "      <th>3</th>\n",
       "      <td>2020</td>\n",
       "      <td>-2.80012500</td>\n",
       "      <td>57.10637500</td>\n",
       "      <td>115.00000000</td>\n",
       "      <td>54.74000000000</td>\n",
       "    </tr>\n",
       "    <tr>\n",
       "      <th>4</th>\n",
       "      <td>2020</td>\n",
       "      <td>-2.79787500</td>\n",
       "      <td>57.10637500</td>\n",
       "      <td>35.00000000</td>\n",
       "      <td>16.66000000000</td>\n",
       "    </tr>\n",
       "  </tbody>\n",
       "</table>\n",
       "</div>"
      ],
      "text/plain": [
       "   YEAR          LON          LAT   CHLORIS_AGB     CHLORIS_ACD\n",
       "0  2020  -2.79712500  57.10637500   60.00000000  28.56000000000\n",
       "1  2020  -2.78087500  57.10637500  116.00000000  55.21600000000\n",
       "2  2020  -2.80112500  57.10637500  145.00000000  69.02000000000\n",
       "3  2020  -2.80012500  57.10637500  115.00000000  54.74000000000\n",
       "4  2020  -2.79787500  57.10637500   35.00000000  16.66000000000"
      ]
     },
     "execution_count": 3,
     "metadata": {},
     "output_type": "execute_result"
    }
   ],
   "source": [
    "# Format the data into a pandas dataframe.\n",
    "data_df = pd.DataFrame(data_rows, columns=data_columns)\n",
    "data_df.head(5)"
   ]
  },
  {
   "cell_type": "code",
   "execution_count": 4,
   "metadata": {},
   "outputs": [
    {
     "data": {
      "image/png": "[encoded data removed]",
      "text/plain": [
       "<Figure size 640x480 with 1 Axes>"
      ]
     },
     "metadata": {},
     "output_type": "display_data"
    }
   ],
   "source": [
    "# Create a scatter plot comparing AGB to ACD data.\n",
    "plt.scatter(data_df['CHLORIS_AGB'], data_df['CHLORIS_ACD'], color='blue', label='AGB vs ACD')\n",
    "\n",
    "# Add labels and title.\n",
    "plt.xlabel('CHLORIS_AGB (Aboveground Biomass)')\n",
    "plt.ylabel('CHLORIS_ACD (Aboveground Carbon Density)')\n",
    "plt.title('CHLORIS_AGB vs CHLORIS_ACD')\n",
    "\n",
    "# Display the legend\n",
    "plt.legend()\n",
    "\n",
    "# Show the plot\n",
    "plt.show()"
   ]
  }
 ],
 "metadata": {
  "kernelspec": {
   "display_name": "code-examples-sql",
   "language": "python",
   "name": "python3"
  },
  "language_info": {
   "codemirror_mode": {
    "name": "ipython",
    "version": 3
   },
   "file_extension": ".py",
   "mimetype": "text/x-python",
   "name": "python",
   "nbconvert_exporter": "python",
   "pygments_lexer": "ipython3",
   "version": "3.12.5"
  }
 },
 "nbformat": 4,
 "nbformat_minor": 2
}
