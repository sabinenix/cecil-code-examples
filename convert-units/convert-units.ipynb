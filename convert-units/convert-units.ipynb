{
 "cells": [
  {
   "cell_type": "markdown",
   "metadata": {},
   "source": [
    "# Convert Units\n",
    "Pull aboveground biomass data from Chloris and convert to aboveground carbon density by multiplying the data by 0.476."
   ]
  },
  {
   "cell_type": "markdown",
   "metadata": {},
   "source": [
    "### Import required packages."
   ]
  },
  {
   "cell_type": "code",
   "execution_count": 1,
   "metadata": {},
   "outputs": [],
   "source": [
    "import snowflake.connector\n",
    "import yaml\n",
    "import pandas as pd\n",
    "import matplotlib.pyplot as plt"
   ]
  },
  {
   "cell_type": "markdown",
   "metadata": {},
   "source": [
    "### Connect to snowflake.\n",
    "Note that the access credentials to the snowflake database are not included below. The code should be modified where shown to include the access credentials provided to you. "
   ]
  },
  {
   "cell_type": "code",
   "execution_count": 2,
   "metadata": {},
   "outputs": [],
   "source": [
    "# Pull database information from the config yaml file. \n",
    "with open('config.yml', 'r') as file:\n",
    "    config = yaml.safe_load(file)\n",
    "\n",
    "# Connect to the snowflake database using info from config file.\n",
    "conn = snowflake.connector.connect(\n",
    "    account = config['database-info']['account'], # Replace 'config['database-info']['account']' with the database account name. \n",
    "    user = config['database-info']['user'], # Replace 'config['database-info']['user']' with the database username.\n",
    "    password = config['database-info']['password'], # Replace 'config['database-info']['password']' with the database password.\n",
    "    warehouse = config['database-info']['warehouse'], # Replace 'config['database-info']['warehouse']' with the database warehouse name.\n",
    "    database = config['database-info']['database'], # Replace 'config['database-info']['database']' with the database name.\n",
    ")"
   ]
  },
  {
   "cell_type": "markdown",
   "metadata": {},
   "source": [
    "### Pull the data of interest.\n",
    "The SQL query below demonstrates how to access variables from the Planet Forest Carbon dataset, converting from aboveground carbon density to aboveground biomass and renaming variables for the year 2020.\n",
    "\n",
    "**SQL Query Breakdown**\n",
    "\n",
    "We begin by selecting the variables of interest from the Planet Forest Carbon dataset. In addition to the year, lat, and lon values, we pull the raw aboveground_carbon_density data, and rename this variable 'planet_acd' using the SQL clause 'AS'. Then, we convert this variable to aboveground biomass by dividing by 0.476, and, like above, renaming the resulting variable 'planet_agb'.\n",
    "```SQL\n",
    "    SELECT\n",
    "        year,\n",
    "        lon,\n",
    "        lat,\n",
    "        aboveground_carbon_density AS planet_acd,\n",
    "        aboveground_carbon_density / 0.476 AS planet_agb\n",
    "```\n",
    "\n",
    "Next, we use the SQL clause 'FROM' to indicate which dataset the variables should be pulled from.\n",
    "```SQL\n",
    "    FROM\n",
    "        planet.pv_forest_carbon\n",
    "```\n",
    "\n",
    "Finally, we select only the rows of the dataset where the year is equal to 2020 using the SQL clause 'WHERE'. \n",
    "```SQL\n",
    "    WHERE\n",
    "        c.year = 2020\n",
    "```"
   ]
  },
  {
   "cell_type": "code",
   "execution_count": 3,
   "metadata": {},
   "outputs": [],
   "source": [
    "# Define the SQL query to get Planet data for 2020.\n",
    "sql_query = \"\"\"\n",
    "    SELECT\n",
    "        year,\n",
    "        lon,\n",
    "        lat,\n",
    "        aboveground_carbon_density AS planet_acd,\n",
    "        aboveground_carbon_density / 0.476 AS planet_agb\n",
    "    FROM\n",
    "        planet.pv_forest_carbon\n",
    "    WHERE\n",
    "        year = 2020\n",
    "    \"\"\"\n",
    "\n",
    "# Execute the query and get the rows and columns of data.\n",
    "cursor = conn.cursor()\n",
    "cursor.execute(sql_query)\n",
    "data_rows = cursor.fetchall()\n",
    "data_columns = [desc[0] for desc in cursor.description]\n",
    "cursor.close()\n",
    "conn.close()"
   ]
  },
  {
   "cell_type": "markdown",
   "metadata": {},
   "source": [
    "### Convert to dataframe."
   ]
  },
  {
   "cell_type": "code",
   "execution_count": 4,
   "metadata": {},
   "outputs": [
    {
     "data": {
      "text/html": [
       "<div>\n",
       "<style scoped>\n",
       "    .dataframe tbody tr th:only-of-type {\n",
       "        vertical-align: middle;\n",
       "    }\n",
       "\n",
       "    .dataframe tbody tr th {\n",
       "        vertical-align: top;\n",
       "    }\n",
       "\n",
       "    .dataframe thead th {\n",
       "        text-align: right;\n",
       "    }\n",
       "</style>\n",
       "<table border=\"1\" class=\"dataframe\">\n",
       "  <thead>\n",
       "    <tr style=\"text-align: right;\">\n",
       "      <th></th>\n",
       "      <th>YEAR</th>\n",
       "      <th>LON</th>\n",
       "      <th>LAT</th>\n",
       "      <th>PLANET_ACD</th>\n",
       "      <th>PLANET_AGB</th>\n",
       "    </tr>\n",
       "  </thead>\n",
       "  <tbody>\n",
       "    <tr>\n",
       "      <th>0</th>\n",
       "      <td>2020</td>\n",
       "      <td>-2.77862500</td>\n",
       "      <td>57.12337500</td>\n",
       "      <td>0E-8</td>\n",
       "      <td>0E-12</td>\n",
       "    </tr>\n",
       "    <tr>\n",
       "      <th>1</th>\n",
       "      <td>2020</td>\n",
       "      <td>-2.77912500</td>\n",
       "      <td>57.12262500</td>\n",
       "      <td>49.00000000</td>\n",
       "      <td>102.941176470588</td>\n",
       "    </tr>\n",
       "    <tr>\n",
       "      <th>2</th>\n",
       "      <td>2020</td>\n",
       "      <td>-2.77962500</td>\n",
       "      <td>57.12212500</td>\n",
       "      <td>42.00000000</td>\n",
       "      <td>88.235294117647</td>\n",
       "    </tr>\n",
       "    <tr>\n",
       "      <th>3</th>\n",
       "      <td>2020</td>\n",
       "      <td>-2.77887500</td>\n",
       "      <td>57.12212500</td>\n",
       "      <td>53.00000000</td>\n",
       "      <td>111.344537815126</td>\n",
       "    </tr>\n",
       "    <tr>\n",
       "      <th>4</th>\n",
       "      <td>2020</td>\n",
       "      <td>-2.77987500</td>\n",
       "      <td>57.12187500</td>\n",
       "      <td>0E-8</td>\n",
       "      <td>0E-12</td>\n",
       "    </tr>\n",
       "  </tbody>\n",
       "</table>\n",
       "</div>"
      ],
      "text/plain": [
       "   YEAR          LON          LAT   PLANET_ACD        PLANET_AGB\n",
       "0  2020  -2.77862500  57.12337500         0E-8             0E-12\n",
       "1  2020  -2.77912500  57.12262500  49.00000000  102.941176470588\n",
       "2  2020  -2.77962500  57.12212500  42.00000000   88.235294117647\n",
       "3  2020  -2.77887500  57.12212500  53.00000000  111.344537815126\n",
       "4  2020  -2.77987500  57.12187500         0E-8             0E-12"
      ]
     },
     "execution_count": 4,
     "metadata": {},
     "output_type": "execute_result"
    }
   ],
   "source": [
    "# Format the data into a pandas dataframe.\n",
    "data_df = pd.DataFrame(data_rows, columns=data_columns)\n",
    "data_df.head(5)"
   ]
  }
 ],
 "metadata": {
  "kernelspec": {
   "display_name": "code-examples-sql",
   "language": "python",
   "name": "python3"
  },
  "language_info": {
   "codemirror_mode": {
    "name": "ipython",
    "version": 3
   },
   "file_extension": ".py",
   "mimetype": "text/x-python",
   "name": "python",
   "nbconvert_exporter": "python",
   "pygments_lexer": "ipython3",
   "version": "3.12.5"
  }
 },
 "nbformat": 4,
 "nbformat_minor": 2
}
